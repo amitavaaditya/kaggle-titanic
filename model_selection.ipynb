{
 "cells": [
  {
   "cell_type": "markdown",
   "metadata": {},
   "source": [
    "# Model selection"
   ]
  },
  {
   "cell_type": "markdown",
   "metadata": {},
   "source": [
    "### Import necessary packages"
   ]
  },
  {
   "cell_type": "code",
   "execution_count": 259,
   "metadata": {},
   "outputs": [],
   "source": [
    "import warnings\n",
    "warnings.filterwarnings('ignore')\n",
    "warnings.filterwarnings('ignore', category=DeprecationWarning)"
   ]
  },
  {
   "cell_type": "code",
   "execution_count": 260,
   "metadata": {},
   "outputs": [],
   "source": [
    "import numpy as np\n",
    "import pandas as pd\n",
    "import matplotlib.pyplot as plt\n",
    "import seaborn as sns\n",
    "from sklearn.preprocessing import LabelEncoder, Imputer, StandardScaler\n",
    "from sklearn.feature_selection import SelectFromModel\n",
    "from sklearn.pipeline import Pipeline\n",
    "from sklearn.externals import joblib\n",
    "from sklearn.decomposition import PCA\n",
    "from sklearn.model_selection import train_test_split, GridSearchCV, validation_curve\n",
    "from sklearn.linear_model import LogisticRegression\n",
    "from sklearn.ensemble import RandomForestClassifier\n",
    "from sklearn.svm import SVC\n",
    "from xgboost import XGBClassifier"
   ]
  },
  {
   "cell_type": "markdown",
   "metadata": {},
   "source": [
    "### Read data into pandas Dataframe"
   ]
  },
  {
   "cell_type": "code",
   "execution_count": 276,
   "metadata": {},
   "outputs": [],
   "source": [
    "train_df = pd.read_csv('datasets/train.csv', index_col='PassengerId')\n",
    "X = train_df.drop('Survived', axis='columns')\n",
    "y = train_df.Survived"
   ]
  },
  {
   "cell_type": "markdown",
   "metadata": {},
   "source": [
    "### Preprocessing data"
   ]
  },
  {
   "cell_type": "code",
   "execution_count": 277,
   "metadata": {},
   "outputs": [
    {
     "data": {
      "text/html": [
       "<div>\n",
       "<style scoped>\n",
       "    .dataframe tbody tr th:only-of-type {\n",
       "        vertical-align: middle;\n",
       "    }\n",
       "\n",
       "    .dataframe tbody tr th {\n",
       "        vertical-align: top;\n",
       "    }\n",
       "\n",
       "    .dataframe thead th {\n",
       "        text-align: right;\n",
       "    }\n",
       "</style>\n",
       "<table border=\"1\" class=\"dataframe\">\n",
       "  <thead>\n",
       "    <tr style=\"text-align: right;\">\n",
       "      <th></th>\n",
       "      <th>Pclass</th>\n",
       "      <th>Name</th>\n",
       "      <th>Sex</th>\n",
       "      <th>Age</th>\n",
       "      <th>SibSp</th>\n",
       "      <th>Parch</th>\n",
       "      <th>Ticket</th>\n",
       "      <th>Fare</th>\n",
       "      <th>Cabin</th>\n",
       "      <th>Embarked</th>\n",
       "    </tr>\n",
       "    <tr>\n",
       "      <th>PassengerId</th>\n",
       "      <th></th>\n",
       "      <th></th>\n",
       "      <th></th>\n",
       "      <th></th>\n",
       "      <th></th>\n",
       "      <th></th>\n",
       "      <th></th>\n",
       "      <th></th>\n",
       "      <th></th>\n",
       "      <th></th>\n",
       "    </tr>\n",
       "  </thead>\n",
       "  <tbody>\n",
       "    <tr>\n",
       "      <th>1</th>\n",
       "      <td>3</td>\n",
       "      <td>Braund, Mr. Owen Harris</td>\n",
       "      <td>male</td>\n",
       "      <td>22.0</td>\n",
       "      <td>1</td>\n",
       "      <td>0</td>\n",
       "      <td>A/5 21171</td>\n",
       "      <td>7.2500</td>\n",
       "      <td>None</td>\n",
       "      <td>S</td>\n",
       "    </tr>\n",
       "    <tr>\n",
       "      <th>2</th>\n",
       "      <td>1</td>\n",
       "      <td>Cumings, Mrs. John Bradley (Florence Briggs Th...</td>\n",
       "      <td>female</td>\n",
       "      <td>38.0</td>\n",
       "      <td>1</td>\n",
       "      <td>0</td>\n",
       "      <td>PC 17599</td>\n",
       "      <td>71.2833</td>\n",
       "      <td>C85</td>\n",
       "      <td>C</td>\n",
       "    </tr>\n",
       "    <tr>\n",
       "      <th>3</th>\n",
       "      <td>3</td>\n",
       "      <td>Heikkinen, Miss. Laina</td>\n",
       "      <td>female</td>\n",
       "      <td>26.0</td>\n",
       "      <td>0</td>\n",
       "      <td>0</td>\n",
       "      <td>STON/O2. 3101282</td>\n",
       "      <td>7.9250</td>\n",
       "      <td>None</td>\n",
       "      <td>S</td>\n",
       "    </tr>\n",
       "    <tr>\n",
       "      <th>4</th>\n",
       "      <td>1</td>\n",
       "      <td>Futrelle, Mrs. Jacques Heath (Lily May Peel)</td>\n",
       "      <td>female</td>\n",
       "      <td>35.0</td>\n",
       "      <td>1</td>\n",
       "      <td>0</td>\n",
       "      <td>113803</td>\n",
       "      <td>53.1000</td>\n",
       "      <td>C123</td>\n",
       "      <td>S</td>\n",
       "    </tr>\n",
       "    <tr>\n",
       "      <th>5</th>\n",
       "      <td>3</td>\n",
       "      <td>Allen, Mr. William Henry</td>\n",
       "      <td>male</td>\n",
       "      <td>35.0</td>\n",
       "      <td>0</td>\n",
       "      <td>0</td>\n",
       "      <td>373450</td>\n",
       "      <td>8.0500</td>\n",
       "      <td>None</td>\n",
       "      <td>S</td>\n",
       "    </tr>\n",
       "  </tbody>\n",
       "</table>\n",
       "</div>"
      ],
      "text/plain": [
       "            Pclass                                               Name     Sex  \\\n",
       "PassengerId                                                                     \n",
       "1                3                            Braund, Mr. Owen Harris    male   \n",
       "2                1  Cumings, Mrs. John Bradley (Florence Briggs Th...  female   \n",
       "3                3                             Heikkinen, Miss. Laina  female   \n",
       "4                1       Futrelle, Mrs. Jacques Heath (Lily May Peel)  female   \n",
       "5                3                           Allen, Mr. William Henry    male   \n",
       "\n",
       "              Age  SibSp  Parch            Ticket     Fare Cabin Embarked  \n",
       "PassengerId                                                                \n",
       "1            22.0      1      0         A/5 21171   7.2500  None        S  \n",
       "2            38.0      1      0          PC 17599  71.2833   C85        C  \n",
       "3            26.0      0      0  STON/O2. 3101282   7.9250  None        S  \n",
       "4            35.0      1      0            113803  53.1000  C123        S  \n",
       "5            35.0      0      0            373450   8.0500  None        S  "
      ]
     },
     "execution_count": 277,
     "metadata": {},
     "output_type": "execute_result"
    }
   ],
   "source": [
    "# Convert Pclass dtype to categorical\n",
    "X.Pclass = X.Pclass.astype('category', ordered=False)\n",
    "\n",
    "#Fill Embarked column with 'None' where NA\n",
    "X.Cabin.fillna('None', inplace=True)\n",
    "\n",
    "#Fill null values in numeric columns\n",
    "numeric_columns = X.select_dtypes(include='number').columns.values\n",
    "X[numeric_columns] = X[numeric_columns].fillna(X[numeric_columns].median())\n",
    "\n",
    "#Fill null values in string columns\n",
    "categorical_columns = X.select_dtypes(exclude='number').columns.values\n",
    "X[categorical_columns] = X[categorical_columns].apply(lambda x:x.fillna(x.value_counts().index[0]))\n",
    "\n",
    "X.head()"
   ]
  },
  {
   "cell_type": "code",
   "execution_count": 278,
   "metadata": {},
   "outputs": [
    {
     "data": {
      "text/plain": [
       "Pclass      False\n",
       "Name        False\n",
       "Sex         False\n",
       "Age         False\n",
       "SibSp       False\n",
       "Parch       False\n",
       "Ticket      False\n",
       "Fare        False\n",
       "Cabin       False\n",
       "Embarked    False\n",
       "dtype: bool"
      ]
     },
     "execution_count": 278,
     "metadata": {},
     "output_type": "execute_result"
    }
   ],
   "source": [
    "X.isna().any()"
   ]
  },
  {
   "cell_type": "markdown",
   "metadata": {},
   "source": [
    "### Feature engineering"
   ]
  },
  {
   "cell_type": "code",
   "execution_count": 279,
   "metadata": {},
   "outputs": [
    {
     "data": {
      "text/html": [
       "<div>\n",
       "<style scoped>\n",
       "    .dataframe tbody tr th:only-of-type {\n",
       "        vertical-align: middle;\n",
       "    }\n",
       "\n",
       "    .dataframe tbody tr th {\n",
       "        vertical-align: top;\n",
       "    }\n",
       "\n",
       "    .dataframe thead th {\n",
       "        text-align: right;\n",
       "    }\n",
       "</style>\n",
       "<table border=\"1\" class=\"dataframe\">\n",
       "  <thead>\n",
       "    <tr style=\"text-align: right;\">\n",
       "      <th></th>\n",
       "      <th>Pclass</th>\n",
       "      <th>Name</th>\n",
       "      <th>Sex</th>\n",
       "      <th>Age</th>\n",
       "      <th>SibSp</th>\n",
       "      <th>Parch</th>\n",
       "      <th>Ticket</th>\n",
       "      <th>Fare</th>\n",
       "      <th>Cabin</th>\n",
       "      <th>Embarked</th>\n",
       "      <th>FamilySize</th>\n",
       "      <th>IsAlone</th>\n",
       "      <th>AgeCategory</th>\n",
       "      <th>FareCategory</th>\n",
       "      <th>HasCabin</th>\n",
       "    </tr>\n",
       "    <tr>\n",
       "      <th>PassengerId</th>\n",
       "      <th></th>\n",
       "      <th></th>\n",
       "      <th></th>\n",
       "      <th></th>\n",
       "      <th></th>\n",
       "      <th></th>\n",
       "      <th></th>\n",
       "      <th></th>\n",
       "      <th></th>\n",
       "      <th></th>\n",
       "      <th></th>\n",
       "      <th></th>\n",
       "      <th></th>\n",
       "      <th></th>\n",
       "      <th></th>\n",
       "    </tr>\n",
       "  </thead>\n",
       "  <tbody>\n",
       "    <tr>\n",
       "      <th>1</th>\n",
       "      <td>3</td>\n",
       "      <td>Braund, Mr. Owen Harris</td>\n",
       "      <td>male</td>\n",
       "      <td>22.0</td>\n",
       "      <td>1</td>\n",
       "      <td>0</td>\n",
       "      <td>A/5 21171</td>\n",
       "      <td>7.2500</td>\n",
       "      <td>None</td>\n",
       "      <td>S</td>\n",
       "      <td>2</td>\n",
       "      <td>False</td>\n",
       "      <td>1</td>\n",
       "      <td>1</td>\n",
       "      <td>False</td>\n",
       "    </tr>\n",
       "    <tr>\n",
       "      <th>2</th>\n",
       "      <td>1</td>\n",
       "      <td>Cumings, Mrs. John Bradley (Florence Briggs Th...</td>\n",
       "      <td>female</td>\n",
       "      <td>38.0</td>\n",
       "      <td>1</td>\n",
       "      <td>0</td>\n",
       "      <td>PC 17599</td>\n",
       "      <td>71.2833</td>\n",
       "      <td>C85</td>\n",
       "      <td>C</td>\n",
       "      <td>2</td>\n",
       "      <td>False</td>\n",
       "      <td>2</td>\n",
       "      <td>1</td>\n",
       "      <td>True</td>\n",
       "    </tr>\n",
       "    <tr>\n",
       "      <th>3</th>\n",
       "      <td>3</td>\n",
       "      <td>Heikkinen, Miss. Laina</td>\n",
       "      <td>female</td>\n",
       "      <td>26.0</td>\n",
       "      <td>0</td>\n",
       "      <td>0</td>\n",
       "      <td>STON/O2. 3101282</td>\n",
       "      <td>7.9250</td>\n",
       "      <td>None</td>\n",
       "      <td>S</td>\n",
       "      <td>1</td>\n",
       "      <td>True</td>\n",
       "      <td>1</td>\n",
       "      <td>1</td>\n",
       "      <td>False</td>\n",
       "    </tr>\n",
       "    <tr>\n",
       "      <th>4</th>\n",
       "      <td>1</td>\n",
       "      <td>Futrelle, Mrs. Jacques Heath (Lily May Peel)</td>\n",
       "      <td>female</td>\n",
       "      <td>35.0</td>\n",
       "      <td>1</td>\n",
       "      <td>0</td>\n",
       "      <td>113803</td>\n",
       "      <td>53.1000</td>\n",
       "      <td>C123</td>\n",
       "      <td>S</td>\n",
       "      <td>2</td>\n",
       "      <td>False</td>\n",
       "      <td>2</td>\n",
       "      <td>1</td>\n",
       "      <td>True</td>\n",
       "    </tr>\n",
       "    <tr>\n",
       "      <th>5</th>\n",
       "      <td>3</td>\n",
       "      <td>Allen, Mr. William Henry</td>\n",
       "      <td>male</td>\n",
       "      <td>35.0</td>\n",
       "      <td>0</td>\n",
       "      <td>0</td>\n",
       "      <td>373450</td>\n",
       "      <td>8.0500</td>\n",
       "      <td>None</td>\n",
       "      <td>S</td>\n",
       "      <td>1</td>\n",
       "      <td>True</td>\n",
       "      <td>2</td>\n",
       "      <td>1</td>\n",
       "      <td>False</td>\n",
       "    </tr>\n",
       "  </tbody>\n",
       "</table>\n",
       "</div>"
      ],
      "text/plain": [
       "            Pclass                                               Name     Sex  \\\n",
       "PassengerId                                                                     \n",
       "1                3                            Braund, Mr. Owen Harris    male   \n",
       "2                1  Cumings, Mrs. John Bradley (Florence Briggs Th...  female   \n",
       "3                3                             Heikkinen, Miss. Laina  female   \n",
       "4                1       Futrelle, Mrs. Jacques Heath (Lily May Peel)  female   \n",
       "5                3                           Allen, Mr. William Henry    male   \n",
       "\n",
       "              Age  SibSp  Parch            Ticket     Fare Cabin Embarked  \\\n",
       "PassengerId                                                                 \n",
       "1            22.0      1      0         A/5 21171   7.2500  None        S   \n",
       "2            38.0      1      0          PC 17599  71.2833   C85        C   \n",
       "3            26.0      0      0  STON/O2. 3101282   7.9250  None        S   \n",
       "4            35.0      1      0            113803  53.1000  C123        S   \n",
       "5            35.0      0      0            373450   8.0500  None        S   \n",
       "\n",
       "             FamilySize IsAlone AgeCategory FareCategory HasCabin  \n",
       "PassengerId                                                        \n",
       "1                     2   False           1            1    False  \n",
       "2                     2   False           2            1     True  \n",
       "3                     1    True           1            1    False  \n",
       "4                     2   False           2            1     True  \n",
       "5                     1    True           2            1    False  "
      ]
     },
     "execution_count": 279,
     "metadata": {},
     "output_type": "execute_result"
    }
   ],
   "source": [
    "# Combine SibSp and ParCh into single column FamilySize\n",
    "X['FamilySize'] = X.SibSp + X.Parch + 1\n",
    "\n",
    "# Define IsAlome from FamilySize\n",
    "X['IsAlone'] = (X.FamilySize == 1).astype('category', ordered=False)\n",
    "\n",
    "# Convert Age to a categorical variable\n",
    "X.Age.fillna(X.Age.median(), inplace=True)\n",
    "X['AgeCategory'] = pd.cut(X.Age, bins=5, labels=np.arange(5)).astype('category', ordered=False)\n",
    "\n",
    "# Convert Fare to a categorical variable\n",
    "X.Fare.fillna(X.Age.median(), inplace=True)\n",
    "X['FareCategory'] = pd.cut(X.Age, bins=4, labels=np.arange(4)).astype('category', ordered=False)\n",
    "\n",
    "# Create column HasCabin from Cabin\n",
    "X['HasCabin'] = (X.Cabin != 'None').astype('category', ordered=False)\n",
    "\n",
    "X.head()"
   ]
  },
  {
   "cell_type": "markdown",
   "metadata": {},
   "source": [
    "### Dropping unwanted features"
   ]
  },
  {
   "cell_type": "code",
   "execution_count": 280,
   "metadata": {},
   "outputs": [
    {
     "data": {
      "text/html": [
       "<div>\n",
       "<style scoped>\n",
       "    .dataframe tbody tr th:only-of-type {\n",
       "        vertical-align: middle;\n",
       "    }\n",
       "\n",
       "    .dataframe tbody tr th {\n",
       "        vertical-align: top;\n",
       "    }\n",
       "\n",
       "    .dataframe thead th {\n",
       "        text-align: right;\n",
       "    }\n",
       "</style>\n",
       "<table border=\"1\" class=\"dataframe\">\n",
       "  <thead>\n",
       "    <tr style=\"text-align: right;\">\n",
       "      <th></th>\n",
       "      <th>Pclass</th>\n",
       "      <th>Sex</th>\n",
       "      <th>Embarked</th>\n",
       "      <th>FamilySize</th>\n",
       "      <th>IsAlone</th>\n",
       "      <th>AgeCategory</th>\n",
       "      <th>FareCategory</th>\n",
       "      <th>HasCabin</th>\n",
       "    </tr>\n",
       "    <tr>\n",
       "      <th>PassengerId</th>\n",
       "      <th></th>\n",
       "      <th></th>\n",
       "      <th></th>\n",
       "      <th></th>\n",
       "      <th></th>\n",
       "      <th></th>\n",
       "      <th></th>\n",
       "      <th></th>\n",
       "    </tr>\n",
       "  </thead>\n",
       "  <tbody>\n",
       "    <tr>\n",
       "      <th>1</th>\n",
       "      <td>3</td>\n",
       "      <td>male</td>\n",
       "      <td>S</td>\n",
       "      <td>2</td>\n",
       "      <td>False</td>\n",
       "      <td>1</td>\n",
       "      <td>1</td>\n",
       "      <td>False</td>\n",
       "    </tr>\n",
       "    <tr>\n",
       "      <th>2</th>\n",
       "      <td>1</td>\n",
       "      <td>female</td>\n",
       "      <td>C</td>\n",
       "      <td>2</td>\n",
       "      <td>False</td>\n",
       "      <td>2</td>\n",
       "      <td>1</td>\n",
       "      <td>True</td>\n",
       "    </tr>\n",
       "    <tr>\n",
       "      <th>3</th>\n",
       "      <td>3</td>\n",
       "      <td>female</td>\n",
       "      <td>S</td>\n",
       "      <td>1</td>\n",
       "      <td>True</td>\n",
       "      <td>1</td>\n",
       "      <td>1</td>\n",
       "      <td>False</td>\n",
       "    </tr>\n",
       "    <tr>\n",
       "      <th>4</th>\n",
       "      <td>1</td>\n",
       "      <td>female</td>\n",
       "      <td>S</td>\n",
       "      <td>2</td>\n",
       "      <td>False</td>\n",
       "      <td>2</td>\n",
       "      <td>1</td>\n",
       "      <td>True</td>\n",
       "    </tr>\n",
       "    <tr>\n",
       "      <th>5</th>\n",
       "      <td>3</td>\n",
       "      <td>male</td>\n",
       "      <td>S</td>\n",
       "      <td>1</td>\n",
       "      <td>True</td>\n",
       "      <td>2</td>\n",
       "      <td>1</td>\n",
       "      <td>False</td>\n",
       "    </tr>\n",
       "  </tbody>\n",
       "</table>\n",
       "</div>"
      ],
      "text/plain": [
       "            Pclass     Sex Embarked  FamilySize IsAlone AgeCategory  \\\n",
       "PassengerId                                                           \n",
       "1                3    male        S           2   False           1   \n",
       "2                1  female        C           2   False           2   \n",
       "3                3  female        S           1    True           1   \n",
       "4                1  female        S           2   False           2   \n",
       "5                3    male        S           1    True           2   \n",
       "\n",
       "            FareCategory HasCabin  \n",
       "PassengerId                        \n",
       "1                      1    False  \n",
       "2                      1     True  \n",
       "3                      1    False  \n",
       "4                      1     True  \n",
       "5                      1    False  "
      ]
     },
     "execution_count": 280,
     "metadata": {},
     "output_type": "execute_result"
    }
   ],
   "source": [
    "X.drop(['Name', 'Age', 'SibSp', 'Parch', 'Cabin', 'Ticket', 'Fare'], axis='columns', inplace=True)\n",
    "X.head()"
   ]
  },
  {
   "cell_type": "markdown",
   "metadata": {},
   "source": [
    "#### Encoding"
   ]
  },
  {
   "cell_type": "code",
   "execution_count": 282,
   "metadata": {},
   "outputs": [
    {
     "data": {
      "text/html": [
       "<div>\n",
       "<style scoped>\n",
       "    .dataframe tbody tr th:only-of-type {\n",
       "        vertical-align: middle;\n",
       "    }\n",
       "\n",
       "    .dataframe tbody tr th {\n",
       "        vertical-align: top;\n",
       "    }\n",
       "\n",
       "    .dataframe thead th {\n",
       "        text-align: right;\n",
       "    }\n",
       "</style>\n",
       "<table border=\"1\" class=\"dataframe\">\n",
       "  <thead>\n",
       "    <tr style=\"text-align: right;\">\n",
       "      <th></th>\n",
       "      <th>Sex</th>\n",
       "      <th>FamilySize</th>\n",
       "      <th>IsAlone</th>\n",
       "      <th>HasCabin</th>\n",
       "      <th>Pclass_1</th>\n",
       "      <th>Pclass_2</th>\n",
       "      <th>Pclass_3</th>\n",
       "      <th>Embarked_0</th>\n",
       "      <th>Embarked_1</th>\n",
       "      <th>Embarked_2</th>\n",
       "      <th>AgeCategory_0</th>\n",
       "      <th>AgeCategory_1</th>\n",
       "      <th>AgeCategory_2</th>\n",
       "      <th>AgeCategory_3</th>\n",
       "      <th>AgeCategory_4</th>\n",
       "      <th>FareCategory_0</th>\n",
       "      <th>FareCategory_1</th>\n",
       "      <th>FareCategory_2</th>\n",
       "      <th>FareCategory_3</th>\n",
       "    </tr>\n",
       "    <tr>\n",
       "      <th>PassengerId</th>\n",
       "      <th></th>\n",
       "      <th></th>\n",
       "      <th></th>\n",
       "      <th></th>\n",
       "      <th></th>\n",
       "      <th></th>\n",
       "      <th></th>\n",
       "      <th></th>\n",
       "      <th></th>\n",
       "      <th></th>\n",
       "      <th></th>\n",
       "      <th></th>\n",
       "      <th></th>\n",
       "      <th></th>\n",
       "      <th></th>\n",
       "      <th></th>\n",
       "      <th></th>\n",
       "      <th></th>\n",
       "      <th></th>\n",
       "    </tr>\n",
       "  </thead>\n",
       "  <tbody>\n",
       "    <tr>\n",
       "      <th>1</th>\n",
       "      <td>1</td>\n",
       "      <td>2</td>\n",
       "      <td>0</td>\n",
       "      <td>0</td>\n",
       "      <td>0</td>\n",
       "      <td>0</td>\n",
       "      <td>1</td>\n",
       "      <td>0</td>\n",
       "      <td>0</td>\n",
       "      <td>1</td>\n",
       "      <td>0</td>\n",
       "      <td>1</td>\n",
       "      <td>0</td>\n",
       "      <td>0</td>\n",
       "      <td>0</td>\n",
       "      <td>0</td>\n",
       "      <td>1</td>\n",
       "      <td>0</td>\n",
       "      <td>0</td>\n",
       "    </tr>\n",
       "    <tr>\n",
       "      <th>2</th>\n",
       "      <td>0</td>\n",
       "      <td>2</td>\n",
       "      <td>0</td>\n",
       "      <td>1</td>\n",
       "      <td>1</td>\n",
       "      <td>0</td>\n",
       "      <td>0</td>\n",
       "      <td>1</td>\n",
       "      <td>0</td>\n",
       "      <td>0</td>\n",
       "      <td>0</td>\n",
       "      <td>0</td>\n",
       "      <td>1</td>\n",
       "      <td>0</td>\n",
       "      <td>0</td>\n",
       "      <td>0</td>\n",
       "      <td>1</td>\n",
       "      <td>0</td>\n",
       "      <td>0</td>\n",
       "    </tr>\n",
       "    <tr>\n",
       "      <th>3</th>\n",
       "      <td>0</td>\n",
       "      <td>1</td>\n",
       "      <td>1</td>\n",
       "      <td>0</td>\n",
       "      <td>0</td>\n",
       "      <td>0</td>\n",
       "      <td>1</td>\n",
       "      <td>0</td>\n",
       "      <td>0</td>\n",
       "      <td>1</td>\n",
       "      <td>0</td>\n",
       "      <td>1</td>\n",
       "      <td>0</td>\n",
       "      <td>0</td>\n",
       "      <td>0</td>\n",
       "      <td>0</td>\n",
       "      <td>1</td>\n",
       "      <td>0</td>\n",
       "      <td>0</td>\n",
       "    </tr>\n",
       "    <tr>\n",
       "      <th>4</th>\n",
       "      <td>0</td>\n",
       "      <td>2</td>\n",
       "      <td>0</td>\n",
       "      <td>1</td>\n",
       "      <td>1</td>\n",
       "      <td>0</td>\n",
       "      <td>0</td>\n",
       "      <td>0</td>\n",
       "      <td>0</td>\n",
       "      <td>1</td>\n",
       "      <td>0</td>\n",
       "      <td>0</td>\n",
       "      <td>1</td>\n",
       "      <td>0</td>\n",
       "      <td>0</td>\n",
       "      <td>0</td>\n",
       "      <td>1</td>\n",
       "      <td>0</td>\n",
       "      <td>0</td>\n",
       "    </tr>\n",
       "    <tr>\n",
       "      <th>5</th>\n",
       "      <td>1</td>\n",
       "      <td>1</td>\n",
       "      <td>1</td>\n",
       "      <td>0</td>\n",
       "      <td>0</td>\n",
       "      <td>0</td>\n",
       "      <td>1</td>\n",
       "      <td>0</td>\n",
       "      <td>0</td>\n",
       "      <td>1</td>\n",
       "      <td>0</td>\n",
       "      <td>0</td>\n",
       "      <td>1</td>\n",
       "      <td>0</td>\n",
       "      <td>0</td>\n",
       "      <td>0</td>\n",
       "      <td>1</td>\n",
       "      <td>0</td>\n",
       "      <td>0</td>\n",
       "    </tr>\n",
       "  </tbody>\n",
       "</table>\n",
       "</div>"
      ],
      "text/plain": [
       "             Sex  FamilySize  IsAlone  HasCabin  Pclass_1  Pclass_2  Pclass_3  \\\n",
       "PassengerId                                                                     \n",
       "1              1           2        0         0         0         0         1   \n",
       "2              0           2        0         1         1         0         0   \n",
       "3              0           1        1         0         0         0         1   \n",
       "4              0           2        0         1         1         0         0   \n",
       "5              1           1        1         0         0         0         1   \n",
       "\n",
       "             Embarked_0  Embarked_1  Embarked_2  AgeCategory_0  AgeCategory_1  \\\n",
       "PassengerId                                                                     \n",
       "1                     0           0           1              0              1   \n",
       "2                     1           0           0              0              0   \n",
       "3                     0           0           1              0              1   \n",
       "4                     0           0           1              0              0   \n",
       "5                     0           0           1              0              0   \n",
       "\n",
       "             AgeCategory_2  AgeCategory_3  AgeCategory_4  FareCategory_0  \\\n",
       "PassengerId                                                                \n",
       "1                        0              0              0               0   \n",
       "2                        1              0              0               0   \n",
       "3                        0              0              0               0   \n",
       "4                        1              0              0               0   \n",
       "5                        1              0              0               0   \n",
       "\n",
       "             FareCategory_1  FareCategory_2  FareCategory_3  \n",
       "PassengerId                                                  \n",
       "1                         1               0               0  \n",
       "2                         1               0               0  \n",
       "3                         1               0               0  \n",
       "4                         1               0               0  \n",
       "5                         1               0               0  "
      ]
     },
     "execution_count": 282,
     "metadata": {},
     "output_type": "execute_result"
    }
   ],
   "source": [
    "X.Sex = LabelEncoder().fit_transform(X.Sex)\n",
    "X.Embarked = LabelEncoder().fit_transform(X.Embarked)\n",
    "X.Embarked = X.Embarked.astype('category', ordered=False)\n",
    "X.IsAlone = LabelEncoder().fit_transform(X.IsAlone)\n",
    "X.HasCabin = LabelEncoder().fit_transform(X.HasCabin)\n",
    "X_encoded = pd.concat((X[['Sex', 'FamilySize', 'IsAlone', 'HasCabin']], \n",
    "           pd.get_dummies(X[['Pclass', 'Embarked', 'AgeCategory', 'FareCategory']])), axis=1)\n",
    "X_encoded.head()"
   ]
  },
  {
   "cell_type": "markdown",
   "metadata": {},
   "source": [
    "### Feature selection"
   ]
  },
  {
   "cell_type": "code",
   "execution_count": 286,
   "metadata": {},
   "outputs": [
    {
     "data": {
      "image/png": "[encoded data removed]",
      "text/plain": [
       "<Figure size 432x288 with 1 Axes>"
      ]
     },
     "metadata": {},
     "output_type": "display_data"
    }
   ],
   "source": [
    "model = RandomForestClassifier().fit(X_encoded, y)\n",
    "pd.Series(model.feature_importances_, index=X_encoded.columns).sort_values(ascending=False).plot(kind='barh')\n",
    "X_feature_selected = SelectFromModel(RandomForestClassifier(), threshold=0.005).fit_transform(X_encoded, y)"
   ]
  },
  {
   "cell_type": "code",
   "execution_count": 287,
   "metadata": {},
   "outputs": [
    {
     "data": {
      "text/plain": [
       "(891, 18)"
      ]
     },
     "execution_count": 287,
     "metadata": {},
     "output_type": "execute_result"
    }
   ],
   "source": [
    "X_feature_selected.shape"
   ]
  },
  {
   "cell_type": "markdown",
   "metadata": {},
   "source": [
    "### Principal Component Analysis to visualise in 2D"
   ]
  },
  {
   "cell_type": "code",
   "execution_count": 288,
   "metadata": {},
   "outputs": [
    {
     "data": {
      "image/png": "[encoded data removed]",
      "text/plain": [
       "<Figure size 432x288 with 1 Axes>"
      ]
     },
     "metadata": {},
     "output_type": "display_data"
    }
   ],
   "source": [
    "pca_model = PCA(n_components=2)\n",
    "X_pca = pca_model.fit_transform(X_feature_selected)\n",
    "sns.scatterplot(X_pca[:,0], X_pca[:,1], hue=y)\n",
    "plt.xlabel('Component 1')\n",
    "plt.ylabel('Component 2');"
   ]
  },
  {
   "cell_type": "markdown",
   "metadata": {},
   "source": [
    "### Splitting dataset into training and test sets"
   ]
  },
  {
   "cell_type": "code",
   "execution_count": 289,
   "metadata": {},
   "outputs": [],
   "source": [
    "X_train, X_test, y_train, y_test = train_test_split(X_feature_selected, y, random_state=0, stratify=y)"
   ]
  },
  {
   "cell_type": "markdown",
   "metadata": {},
   "source": [
    "### Trying out different models"
   ]
  },
  {
   "cell_type": "code",
   "execution_count": 290,
   "metadata": {},
   "outputs": [
    {
     "name": "stdout",
     "output_type": "stream",
     "text": [
      "Training score: 0.8173652694610778\n",
      "Test score: 0.7937219730941704\n",
      "Best params: {'C': 0.05994842503189409}\n",
      "CPU times: user 124 ms, sys: 48.7 ms, total: 173 ms\n",
      "Wall time: 231 ms\n"
     ]
    }
   ],
   "source": [
    "%%time\n",
    "#Logistic Regression\n",
    "param_grid = {\n",
    "    'C': np.logspace(-2, -1, 10)\n",
    "}\n",
    "model = GridSearchCV(LogisticRegression(), param_grid=param_grid, n_jobs=-1)\n",
    "model.fit(X_train, y_train)\n",
    "print('Training score: {}'.format(model.score(X_train, y_train)))\n",
    "print('Test score: {}'.format(model.score(X_test, y_test)))\n",
    "print('Best params: {}'.format(model.best_params_))"
   ]
  },
  {
   "cell_type": "code",
   "execution_count": 291,
   "metadata": {},
   "outputs": [
    {
     "name": "stdout",
     "output_type": "stream",
     "text": [
      "Fitting 3 folds for each of 5 candidates, totalling 15 fits\n"
     ]
    },
    {
     "name": "stderr",
     "output_type": "stream",
     "text": [
      "[Parallel(n_jobs=-1)]: Done  15 out of  15 | elapsed:   11.9s finished\n"
     ]
    },
    {
     "name": "stdout",
     "output_type": "stream",
     "text": [
      "Training score: 0.8308383233532934\n",
      "CV score: 0.8068862275449101\n",
      "Test score: 0.820627802690583\n",
      "Best params: {'max_depth': 4, 'n_estimators': 1000}\n",
      "CPU times: user 1.94 s, sys: 45.8 ms, total: 1.98 s\n",
      "Wall time: 13.9 s\n"
     ]
    }
   ],
   "source": [
    "%%time\n",
    "# Random Forest\n",
    "param_grid = {\n",
    "    'n_estimators': [1000],\n",
    "    'max_depth': np.arange(1, 6)\n",
    "}\n",
    "model = GridSearchCV(RandomForestClassifier(), param_grid=param_grid, n_jobs=-1, verbose=1)\n",
    "model.fit(X_train, y_train)\n",
    "print('Training score: {}'.format(model.score(X_train, y_train)))\n",
    "print('CV score: {}'.format(model.best_score_))\n",
    "print('Test score: {}'.format(model.score(X_test, y_test)))\n",
    "print('Best params: {}'.format(model.best_params_))"
   ]
  },
  {
   "cell_type": "code",
   "execution_count": 292,
   "metadata": {},
   "outputs": [
    {
     "name": "stdout",
     "output_type": "stream",
     "text": [
      "Fitting 3 folds for each of 100 candidates, totalling 300 fits\n"
     ]
    },
    {
     "name": "stderr",
     "output_type": "stream",
     "text": [
      "[Parallel(n_jobs=-1)]: Done 212 tasks      | elapsed:    2.1s\n"
     ]
    },
    {
     "name": "stdout",
     "output_type": "stream",
     "text": [
      "Training score: 0.8293413173652695\n",
      "CV score: 0.8218562874251497\n",
      "Test score: 0.8026905829596412\n",
      "Best params: {'C': 10.0, 'gamma': 0.021544346900318832, 'kernel': 'rbf'}\n",
      "CPU times: user 451 ms, sys: 44.4 ms, total: 495 ms\n",
      "Wall time: 3.15 s\n"
     ]
    },
    {
     "name": "stderr",
     "output_type": "stream",
     "text": [
      "[Parallel(n_jobs=-1)]: Done 300 out of 300 | elapsed:    2.9s finished\n"
     ]
    }
   ],
   "source": [
    "%%time\n",
    "# Support Vector Classifier\n",
    "param_grid = [\n",
    "    {\n",
    "        'kernel': ['rbf'],\n",
    "        'C': np.logspace(0, 3, 10),\n",
    "        'gamma': np.logspace(-3, 3, 10),   \n",
    "    }\n",
    "    \n",
    "]\n",
    "model = GridSearchCV(SVC(), param_grid=param_grid, n_jobs=-1, verbose=1)\n",
    "model.fit(X_train, y_train)\n",
    "print('Training score: {}'.format(model.score(X_train, y_train)))\n",
    "print('CV score: {}'.format(model.best_score_))\n",
    "print('Test score: {}'.format(model.score(X_test, y_test)))\n",
    "print('Best params: {}'.format(model.best_params_))"
   ]
  },
  {
   "cell_type": "code",
   "execution_count": 293,
   "metadata": {},
   "outputs": [
    {
     "name": "stdout",
     "output_type": "stream",
     "text": [
      "Fitting 3 folds for each of 1 candidates, totalling 3 fits\n"
     ]
    },
    {
     "name": "stderr",
     "output_type": "stream",
     "text": [
      "[Parallel(n_jobs=-1)]: Done   3 out of   3 | elapsed:    0.5s finished\n"
     ]
    },
    {
     "name": "stdout",
     "output_type": "stream",
     "text": [
      "Training score: 0.8667664670658682\n",
      "CV score: 0.7874251497005988\n",
      "Test score: 0.7982062780269058\n",
      "Best params: {'n_estimators': 1000}\n",
      "CPU times: user 521 ms, sys: 42.5 ms, total: 564 ms\n",
      "Wall time: 1.06 s\n"
     ]
    }
   ],
   "source": [
    "%%time\n",
    "# XGBoost\n",
    "param_grid = {\n",
    "    'n_estimators': [1000],\n",
    "}\n",
    "model = GridSearchCV(XGBClassifier(), param_grid=param_grid, n_jobs=-1, verbose=1)\n",
    "model.fit(X_train, y_train)\n",
    "print('Training score: {}'.format(model.score(X_train, y_train)))\n",
    "print('CV score: {}'.format(model.best_score_))\n",
    "print('Test score: {}'.format(model.score(X_test, y_test)))\n",
    "print('Best params: {}'.format(model.best_params_))"
   ]
  },
  {
   "cell_type": "markdown",
   "metadata": {},
   "source": [
    "#### Improving the model"
   ]
  },
  {
   "cell_type": "code",
   "execution_count": 349,
   "metadata": {},
   "outputs": [
    {
     "name": "stdout",
     "output_type": "stream",
     "text": [
      "Fitting 3 folds for each of 1800 candidates, totalling 5400 fits\n"
     ]
    },
    {
     "name": "stderr",
     "output_type": "stream",
     "text": [
      "[Parallel(n_jobs=-1)]: Done  42 tasks      | elapsed:    4.4s\n",
      "[Parallel(n_jobs=-1)]: Done 192 tasks      | elapsed:   18.9s\n",
      "[Parallel(n_jobs=-1)]: Done 442 tasks      | elapsed:   43.0s\n",
      "[Parallel(n_jobs=-1)]: Done 792 tasks      | elapsed:  1.4min\n",
      "[Parallel(n_jobs=-1)]: Done 1242 tasks      | elapsed:  2.5min\n",
      "[Parallel(n_jobs=-1)]: Done 1792 tasks      | elapsed:  4.3min\n",
      "[Parallel(n_jobs=-1)]: Done 2442 tasks      | elapsed:  7.2min\n",
      "[Parallel(n_jobs=-1)]: Done 3192 tasks      | elapsed: 11.4min\n",
      "[Parallel(n_jobs=-1)]: Done 4042 tasks      | elapsed: 17.0min\n",
      "[Parallel(n_jobs=-1)]: Done 4992 tasks      | elapsed: 24.3min\n",
      "[Parallel(n_jobs=-1)]: Done 5400 out of 5400 | elapsed: 27.9min finished\n"
     ]
    },
    {
     "name": "stdout",
     "output_type": "stream",
     "text": [
      "Training score: 0.8413173652694611\n",
      "CV score: 0.812874251497006\n",
      "Test score: 0.820627802690583\n",
      "Best params: {'pca__n_components': 9, 'xgb__gamma': 0.7999999999999999, 'xgb__learning_rate': 0.01291549665014884, 'xgb__max_depth': 1, 'xgb__n_estimators': 2000, 'xgb__n_jobs': -1}\n"
     ]
    }
   ],
   "source": [
    "pipe = Pipeline(steps=[\n",
    "    ('pca', PCA()),\n",
    "    ('xgb', XGBClassifier()),\n",
    "])\n",
    "param_grid = {\n",
    "    'pca__n_components': np.arange(1, X_train.shape[1], 2),\n",
    "    'xgb__n_estimators': [2000],\n",
    "    'xgb__learning_rate': np.logspace(-2, -1, 10),\n",
    "    'xgb__max_depth': np.arange(1, 6),\n",
    "    'xgb__gamma': np.arange(0.7, 1.0, 0.1),\n",
    "    'xgb__n_jobs':[-1],\n",
    "}\n",
    "model = GridSearchCV(pipe, param_grid=param_grid, n_jobs=-1, verbose=1)\n",
    "model.fit(X_train, y_train)\n",
    "print('Training score: {}'.format(model.score(X_train, y_train)))\n",
    "print('CV score: {}'.format(model.best_score_))\n",
    "print('Test score: {}'.format(model.score(X_test, y_test)))\n",
    "print('Best params: {}'.format(model.best_params_))"
   ]
  },
  {
   "cell_type": "markdown",
   "metadata": {},
   "source": [
    "Training score: 0.8413173652694611\n",
    "CV score: 0.812874251497006\n",
    "Test score: 0.820627802690583\n",
    "Best params: {'pca__n_components': 9, 'xgb__gamma': 0.9, 'xgb__learning_rate': 0.05623413251903491, 'xgb__max_depth': 1, 'xgb__n_estimators': 2000, 'xgb__n_jobs': -1}"
   ]
  },
  {
   "cell_type": "markdown",
   "metadata": {},
   "source": [
    "### Saving the model for later predictions"
   ]
  },
  {
   "cell_type": "code",
   "execution_count": 350,
   "metadata": {},
   "outputs": [
    {
     "data": {
      "text/plain": [
       "['model.pkl']"
      ]
     },
     "execution_count": 350,
     "metadata": {},
     "output_type": "execute_result"
    }
   ],
   "source": [
    "joblib.dump(model, 'model.pkl')"
   ]
  }
 ],
 "metadata": {
  "kernelspec": {
   "display_name": "Python 3",
   "language": "python",
   "name": "python3"
  },
  "language_info": {
   "codemirror_mode": {
    "name": "ipython",
    "version": 3
   },
   "file_extension": ".py",
   "mimetype": "text/x-python",
   "name": "python",
   "nbconvert_exporter": "python",
   "pygments_lexer": "ipython3",
   "version": "3.6.6"
  }
 },
 "nbformat": 4,
 "nbformat_minor": 2
}
